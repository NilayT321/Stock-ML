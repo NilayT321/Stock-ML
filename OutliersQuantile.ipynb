{
 "cells": [
  {
   "cell_type": "markdown",
   "id": "546f2e67-7810-463f-93e7-655fb57b816c",
   "metadata": {},
   "source": [
    "# Stock Data Task 3\n",
    "\n",
    "## Quantile Analysis & Outlier Detection"
   ]
  },
  {
   "cell_type": "code",
   "execution_count": 124,
   "id": "cd90c91b-8f1a-49c1-8550-fc6cd16c725a",
   "metadata": {},
   "outputs": [],
   "source": [
    "import pandas as pd \n",
    "import numpy as np \n",
    "import math\n",
    "from statistics import mean"
   ]
  },
  {
   "cell_type": "markdown",
   "id": "ed04a465-6bc4-4209-b89c-32bc6acb098f",
   "metadata": {},
   "source": [
    "First, we write functions to determine the quartiles and determine the boundaries for the outliers."
   ]
  },
  {
   "cell_type": "code",
   "execution_count": 125,
   "id": "84afc6f6-0cbe-4984-ba99-f3426a8bf9eb",
   "metadata": {},
   "outputs": [],
   "source": [
    "# A function to determine whether result of division is an integer \n",
    "def is_integer (x):\n",
    "    return abs(x - math.floor(x)) < 0.001"
   ]
  },
  {
   "cell_type": "code",
   "execution_count": 126,
   "id": "eb5a942d-8a37-491e-b63c-9382e9927b0e",
   "metadata": {},
   "outputs": [],
   "source": [
    "# First quartile\n",
    "def quartiles (lt, type = \"first\"):\n",
    "    lst = lt.sort_values() \n",
    "    n = len(lst)\n",
    "\n",
    "    if type == \"first\":\n",
    "        L = n/4\n",
    "    elif type == \"third\":\n",
    "        L = 0.75*n \n",
    "    else:\n",
    "        raise ValueError(\"Argument 'type' must be either 'first' (for first quartile) or 'third' (for third quartile)\")\n",
    "\n",
    "    if is_integer(L):\n",
    "        # Since arrays are 0 indexed, Lth value is at index L-1 \n",
    "        L = int(L)\n",
    "        return mean([lst.iloc[L-1], lst.iloc[L]]) \n",
    "    else:\n",
    "        # Round L up \n",
    "        L = math.ceil(L) \n",
    "        return lst.iloc[L-1] "
   ]
  },
  {
   "cell_type": "code",
   "execution_count": 127,
   "id": "511c2300-cd01-415d-98bc-28c7c42c3703",
   "metadata": {},
   "outputs": [],
   "source": [
    "# Returns the lower and upper boundary for a given pandas series\n",
    "def outlier_boundaries (ser):\n",
    "    q1 = quartiles(ser) \n",
    "    q3 = quartiles(ser, type = \"third\")\n",
    "\n",
    "    iqr = q3 - q1 \n",
    "    lower_bdy = q1 - 1.5 * iqr \n",
    "    upper_bdy = q3 + 1.5 * iqr \n",
    "    return [lower_bdy, upper_bdy]"
   ]
  },
  {
   "cell_type": "markdown",
   "id": "9ac7e425-5510-4f46-bbeb-46df39dc820b",
   "metadata": {},
   "source": [
    "Now that we have written the necessary funtions, we will use it to identify outliers for OPEN, HIGH, LOW, CLOSE in the stock market data."
   ]
  },
  {
   "cell_type": "code",
   "execution_count": 128,
   "id": "3b39523c-8355-4c84-b7f2-941963512110",
   "metadata": {},
   "outputs": [],
   "source": [
    "stocks = pd.read_csv(\"spx.csv\").reset_index(names = \"Day\")"
   ]
  },
  {
   "cell_type": "code",
   "execution_count": 129,
   "id": "798a39ab-2538-47cf-bcec-2961ecb6eaec",
   "metadata": {},
   "outputs": [],
   "source": [
    "open = stocks[\"Open\"] \n",
    "high = stocks[\"High\"] \n",
    "low = stocks[\"Low\"] \n",
    "close = stocks[\"Close\"]"
   ]
  },
  {
   "cell_type": "code",
   "execution_count": 130,
   "id": "879b8013-2e46-41b5-9531-6cfe6e03a5d2",
   "metadata": {},
   "outputs": [],
   "source": [
    "open_lower_bdy, open_upper_bdy = outlier_boundaries(open) \n",
    "high_lower_bdy, high_upper_bdy = outlier_boundaries(high) \n",
    "low_lower_bdy, low_upper_bdy = outlier_boundaries(low) \n",
    "close_lower_bdy, close_upper_bdy = outlier_boundaries(close)"
   ]
  },
  {
   "cell_type": "markdown",
   "id": "69f15858-d8da-493d-8a06-a47f1223e00a",
   "metadata": {},
   "source": [
    "Now that we have gotten the boundaries, we will identify outliers in the spx.csv data. "
   ]
  },
  {
   "cell_type": "code",
   "execution_count": 131,
   "id": "90064dfb-d242-4789-9bd4-3ae5dcd2d591",
   "metadata": {},
   "outputs": [],
   "source": [
    "ix_open = (stocks[\"Open\"] > open_upper_bdy) | (stocks[\"Open\"] < open_lower_bdy) \n",
    "ix_high = (stocks[\"High\"] > high_upper_bdy) | (stocks[\"High\"] < high_lower_bdy)\n",
    "ix_low = (stocks[\"Low\"] > low_upper_bdy) | (stocks[\"Low\"] < low_lower_bdy) \n",
    "ix_close = (stocks[\"Close\"] > close_upper_bdy) | (stocks[\"Close\"] < close_lower_bdy) "
   ]
  },
  {
   "cell_type": "code",
   "execution_count": 132,
   "id": "c7554c11-e25a-4b64-8b60-5d89d5a1bf05",
   "metadata": {},
   "outputs": [],
   "source": [
    "outliers = stocks[(ix_open) | (ix_high) | (ix_low) | (ix_close)]"
   ]
  },
  {
   "cell_type": "markdown",
   "id": "9ade076c-0b7e-4196-8602-b0a9ecc2a254",
   "metadata": {},
   "source": [
    "Now that the outliers have been identified, we will output the results to a CSV file."
   ]
  },
  {
   "cell_type": "code",
   "execution_count": 135,
   "id": "e6789c96-02bb-4f3c-a0c2-d267b562d9f8",
   "metadata": {},
   "outputs": [],
   "source": [
    "outliers.to_csv(\"outliers.csv\", header = True, index = False)"
   ]
  }
 ],
 "metadata": {
  "kernelspec": {
   "display_name": "Python 3 (ipykernel)",
   "language": "python",
   "name": "python3"
  },
  "language_info": {
   "codemirror_mode": {
    "name": "ipython",
    "version": 3
   },
   "file_extension": ".py",
   "mimetype": "text/x-python",
   "name": "python",
   "nbconvert_exporter": "python",
   "pygments_lexer": "ipython3",
   "version": "3.12.3"
  }
 },
 "nbformat": 4,
 "nbformat_minor": 5
}
